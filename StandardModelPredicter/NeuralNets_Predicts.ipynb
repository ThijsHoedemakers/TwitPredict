{
 "cells": [
  {
   "cell_type": "code",
   "execution_count": 1,
   "id": "ecee649a",
   "metadata": {},
   "outputs": [
    {
     "name": "stdout",
     "output_type": "stream",
     "text": [
      "WARNING:tensorflow:From C:\\Users\\thoed\\AppData\\Roaming\\Python\\Python37\\site-packages\\tensorflow\\python\\compat\\v2_compat.py:96: disable_resource_variables (from tensorflow.python.ops.variable_scope) is deprecated and will be removed in a future version.\n",
      "Instructions for updating:\n",
      "non-resource variables are not supported in the long term\n"
     ]
    }
   ],
   "source": [
    "#load packages\n",
    "import tensorflow.compat.v1 as tf\n",
    "import numpy as np\n",
    "import matplotlib.pyplot as plt\n",
    "from sklearn.model_selection import train_test_split\n",
    "import xarray\n",
    "import pandas as pd\n",
    "tf.disable_v2_behavior()"
   ]
  },
  {
   "cell_type": "code",
   "execution_count": 26,
   "id": "8b78cc81",
   "metadata": {},
   "outputs": [],
   "source": [
    "# Loading and slicing data\n",
    "\n",
    "class DataSet:\n",
    "    \n",
    "    def __init__(self):\n",
    "        # load data from csv file\n",
    "        csv_data= pd.read_csv('datasets/Feature_Set.csv')\n",
    "        self.data = csv_data\n",
    "        # seperate features from results\n",
    "        self.features = csv_data.loc[:,'EG_Home':'STA_Away'] \n",
    "        self.results = csv_data.loc[:,'Result']\n",
    "        # create a training and test set \n",
    "        self.train_X, self.test_X, self.train_Y, self.test_Y = self.split_it()\n",
    "        \n",
    "    def split_it(self):\n",
    "        X_train, X_test, y_train, y_test = train_test_split(self.features,self.results, test_size=0.3, random_state=6)\n",
    "        return X_train, X_test, y_train, y_test\n",
    "    \n",
    "    def epoch_data(self, batch_size=None):\n",
    "        data_set = self.data\n",
    "        nr_samples = len(data_set['Result'])\n",
    "        \n",
    "        print(nr_samples, data_set)\n",
    "\n",
    "        if batch_size is None:\n",
    "            batch_size=nr_samples\n",
    "        shuffled_indices = np.random.permutation(nr_samples)\n",
    "        #while True:\n",
    "         #   end = min(start + batch_size, len(shuffled_indices))\n",
    "    "
   ]
  },
  {
   "cell_type": "code",
   "execution_count": 27,
   "id": "6eb4e519",
   "metadata": {},
   "outputs": [
    {
     "name": "stdout",
     "output_type": "stream",
     "text": [
      "261      Unnamed: 0  EG_Home  EG_Away  ES_Home  ES_Away  EST_Home  EST_Away  \\\n",
      "0            45      0.8      0.8     11.6     10.0       3.0       3.4   \n",
      "1            46      2.4      1.4     15.4      9.8       6.6       5.0   \n",
      "2            47      1.6      0.8     11.6      9.2       5.4       3.4   \n",
      "3            48      1.0      2.0      7.0     17.8       2.6       6.2   \n",
      "4            49      2.0      2.4     23.6     14.8       7.8       4.8   \n",
      "..          ...      ...      ...      ...      ...       ...       ...   \n",
      "256         301      2.6      1.6     13.6     11.4       5.2       4.6   \n",
      "257         302      1.2      1.0     12.8     10.0       5.0       2.6   \n",
      "258         303      0.8      1.4     10.6     12.6       3.2       4.2   \n",
      "259         304      1.8      0.8     18.2     11.8       5.4       3.6   \n",
      "260         305      1.6      3.0      9.8     16.2       3.8       6.2   \n",
      "\n",
      "     GA_Home  GA_Away  SA_Home  SA_Away  STA_Home  STA_Away  Result  \n",
      "0        1.8      1.6     18.0     12.4       7.0       4.6       2  \n",
      "1        0.8      2.6      9.6     15.2       3.8       5.6       0  \n",
      "2        2.0      2.8     19.8     20.0       7.8       7.8       2  \n",
      "3        2.4      1.2     11.6     11.0       5.0       3.4       0  \n",
      "4        0.8      1.0     10.6     11.8       3.6       4.2       0  \n",
      "..       ...      ...      ...      ...       ...       ...     ...  \n",
      "256      1.4      2.4     15.6     14.2       4.8       5.0       0  \n",
      "257      3.0      2.0     17.0     22.6       6.8       7.6       0  \n",
      "258      2.0      1.8     11.8     17.6       5.4       6.0       1  \n",
      "259      2.4      2.6     11.0     21.6       4.8       7.2       2  \n",
      "260      2.0      1.6     18.4     11.2       7.0       5.2       1  \n",
      "\n",
      "[261 rows x 14 columns]\n"
     ]
    }
   ],
   "source": [
    "data = DataSet()\n",
    "data.train_X\n",
    "data.epoch_data()"
   ]
  },
  {
   "cell_type": "code",
   "execution_count": null,
   "id": "fafb941d",
   "metadata": {
    "scrolled": false
   },
   "outputs": [],
   "source": []
  },
  {
   "cell_type": "code",
   "execution_count": null,
   "id": "78b5ec5e",
   "metadata": {},
   "outputs": [],
   "source": []
  }
 ],
 "metadata": {
  "kernelspec": {
   "display_name": "Python 3",
   "language": "python",
   "name": "python3"
  },
  "language_info": {
   "codemirror_mode": {
    "name": "ipython",
    "version": 3
   },
   "file_extension": ".py",
   "mimetype": "text/x-python",
   "name": "python",
   "nbconvert_exporter": "python",
   "pygments_lexer": "ipython3",
   "version": "3.7.10"
  }
 },
 "nbformat": 4,
 "nbformat_minor": 5
}

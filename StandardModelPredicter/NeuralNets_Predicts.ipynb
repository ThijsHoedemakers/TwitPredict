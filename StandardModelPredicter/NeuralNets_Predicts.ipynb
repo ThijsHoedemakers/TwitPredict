{
 "cells": [
  {
   "cell_type": "code",
   "execution_count": 1,
   "id": "101d7a31",
   "metadata": {},
   "outputs": [
    {
     "name": "stdout",
     "output_type": "stream",
     "text": [
      "WARNING:tensorflow:From C:\\Users\\thoed\\AppData\\Roaming\\Python\\Python37\\site-packages\\tensorflow\\python\\compat\\v2_compat.py:96: disable_resource_variables (from tensorflow.python.ops.variable_scope) is deprecated and will be removed in a future version.\n",
      "Instructions for updating:\n",
      "non-resource variables are not supported in the long term\n"
     ]
    }
   ],
   "source": [
    "#load packages\n",
    "import tensorflow.compat.v1 as tf\n",
    "import numpy as np\n",
    "import matplotlib.pyplot as plt\n",
    "from sklearn.model_selection import train_test_split\n",
    "import xarray\n",
    "import pandas as pd\n",
    "tf.disable_v2_behavior()"
   ]
  },
  {
   "cell_type": "code",
   "execution_count": 2,
   "id": "07f6d322",
   "metadata": {},
   "outputs": [],
   "source": [
    "# Loading and slicing data\n",
    "\n",
    "class DataSet:\n",
    "    \n",
    "    def __init__(self):\n",
    "        # load data from csv file\n",
    "        csv_data= pd.read_csv('datasets/Feature_Set.csv')\n",
    "        \n",
    "        self.data = csv_data\n",
    "        #print(data)\n",
    "        # seperate features from results\n",
    "        self.features = csv_data.loc[:,'EG_Home':'STA_Away'] \n",
    "        self.results = csv_data.loc[:,'Result']\n",
    "        #print(results)\n",
    "        # create a training and test set \n",
    "        self.train_X, self.test_X, self.train_Y, self.test_Y = self.split_it()\n",
    "        \n",
    "    def split_it(self):\n",
    "        X_train, X_test, y_train, y_test = train_test_split(self.features,self.results, test_size=0.3, random_state=6)\n",
    "        return X_train, X_test, y_train, y_test\n",
    "    \n",
    "    def epoch_data(self, batch_size=None):\n",
    "        data_set = self.data\n",
    "        nr_samples = len(data_set['Result'])\n",
    "        \n",
    "        if batch_size is None:\n",
    "            batch_size=nr_samples\n",
    "        shuffled_indices = np.random.permutation(nr_samples)\n",
    "        \n",
    "        batch_data = list(shuffled_indices[0:batch_size])\n",
    "        epochData = data_set.iloc[batch_data,:] \n",
    "        yield epochData.loc[:,'Result']\n",
    "        yield epochData.loc[:,'EG_Home':'STA_Away']\n",
    "        \n",
    "    "
   ]
  },
  {
   "cell_type": "code",
   "execution_count": 3,
   "id": "58062d9f",
   "metadata": {},
   "outputs": [
    {
     "name": "stdout",
     "output_type": "stream",
     "text": [
      "121    2\n",
      "4      0\n",
      "1      0\n",
      "6      2\n",
      "171    1\n",
      "5      0\n",
      "97     2\n",
      "87     1\n",
      "124    1\n",
      "135    2\n",
      "Name: Result, dtype: int64      EG_Home  EG_Away  ES_Home  ES_Away  EST_Home  EST_Away  GA_Home  GA_Away  \\\n",
      "121      2.8      2.8     21.0     15.8       8.4       8.0      1.2      0.8   \n",
      "4        2.0      2.4     23.6     14.8       7.8       4.8      0.8      1.0   \n",
      "1        2.4      1.4     15.4      9.8       6.6       5.0      0.8      2.6   \n",
      "6        1.6      1.2      9.6     10.4       4.0       3.8      2.0      1.4   \n",
      "171      0.8      1.6      9.8     14.2       3.4       4.2      1.8      1.6   \n",
      "5        2.0      1.0     21.0      9.2       7.4       3.6      1.0      1.8   \n",
      "97       1.8      1.2     13.8     15.4       6.0       4.0      1.4      2.8   \n",
      "87       0.8      1.8      8.0     13.2       3.0       4.0      1.8      1.6   \n",
      "124      1.8      2.4     13.6     12.8       3.6       5.0      2.0      1.4   \n",
      "135      1.2      2.2     12.0     14.0       4.8       6.2      1.0      1.8   \n",
      "\n",
      "     SA_Home  SA_Away  STA_Home  STA_Away  \n",
      "121     11.6     11.4       4.6       3.6  \n",
      "4       10.6     11.8       3.6       4.2  \n",
      "1        9.6     15.2       3.8       5.6  \n",
      "6       21.2     11.6       8.2       3.6  \n",
      "171     16.6     16.6       6.6       6.4  \n",
      "5       14.8     13.2       4.8       4.0  \n",
      "97      11.0     19.2       4.4       6.8  \n",
      "87      20.4     17.2       6.4       5.6  \n",
      "124     18.2     14.0       6.2       5.6  \n",
      "135     12.8     15.2       4.6       6.6  \n"
     ]
    }
   ],
   "source": [
    "data = DataSet()\n",
    "\n",
    "resultEpoch, featureEpoch = data.epoch_data(batch_size=10)\n",
    "print(resultEpoch, featureEpoch)"
   ]
  },
  {
   "cell_type": "code",
   "execution_count": null,
   "id": "ef605dd0",
   "metadata": {
    "scrolled": false
   },
   "outputs": [],
   "source": []
  },
  {
   "cell_type": "code",
   "execution_count": null,
   "id": "0d1658bb",
   "metadata": {},
   "outputs": [],
   "source": []
  }
 ],
 "metadata": {
  "kernelspec": {
   "display_name": "Python 3",
   "language": "python",
   "name": "python3"
  },
  "language_info": {
   "codemirror_mode": {
    "name": "ipython",
    "version": 3
   },
   "file_extension": ".py",
   "mimetype": "text/x-python",
   "name": "python",
   "nbconvert_exporter": "python",
   "pygments_lexer": "ipython3",
   "version": "3.7.10"
  }
 },
 "nbformat": 4,
 "nbformat_minor": 5
}
